{
 "cells": [
  {
   "cell_type": "markdown",
   "metadata": {},
   "source": [
    "# *Task 1*\n",
    "*check for valid emails and passwords in both files emails and passwords*\n",
    " "
   ]
  },
  {
   "cell_type": "markdown",
   "metadata": {},
   "source": [
    "## Implement Validation Functions\n",
    "- import libraries, pandas and re\n",
    "- define validation functions using RegEx to validate "
   ]
  },
  {
   "cell_type": "code",
   "execution_count": 16,
   "metadata": {},
   "outputs": [],
   "source": [
    "import pandas as pd \n",
    "import re\n",
    "\n",
    "def isValidEmail(email):\n",
    "    pattern = r'^[a-zA-Z0-9._%+-]+@[a-zA-Z0-9.-]+\\.[a-zA-Z]{2,}$'\n",
    "    # Check if email matches basic pattern\n",
    "    if not re.match(pattern, email):\n",
    "        return False\n",
    "    # Ensure no consecutive dots in domain and that domain doesn’t start/end with hyphens or dots\n",
    "    local_part, domain = email.rsplit('@', 1)\n",
    "    if '..' in domain or domain.startswith('-') or domain.endswith('-') or domain.startswith('.') or domain.endswith('.'):\n",
    "        return False\n",
    "    return True\n",
    "\n",
    "def isValidPassword(password):\n",
    "    pattern = r'^(?=.*[a-z])(?=.*[A-Z])(?=.*\\d)(?=.*\\W).{8,}$'\n",
    "    return re.match(pattern, password) is not None"
   ]
  },
  {
   "cell_type": "markdown",
   "metadata": {},
   "source": [
    "## Read CSV files using pandas"
   ]
  },
  {
   "cell_type": "code",
   "execution_count": 17,
   "metadata": {},
   "outputs": [],
   "source": [
    "emails_df = pd.read_csv('./emails.csv')\n",
    "passwords_df = pd.read_csv('./passwords.csv')"
   ]
  },
  {
   "cell_type": "markdown",
   "metadata": {},
   "source": [
    "## Check for Valid Emails and Passwords"
   ]
  },
  {
   "cell_type": "code",
   "execution_count": 18,
   "metadata": {},
   "outputs": [
    {
     "name": "stdout",
     "output_type": "stream",
     "text": [
      "Valid Emails: \n",
      "                           Emails  valid_email\n",
      "0            john.doe@example.com         True\n",
      "1         jane_smith123@gmail.com         True\n",
      "2             user.name@domain.co         True\n",
      "3      alice.brown@sub.domain.com         True\n",
      "4   test.email+filter@service.com         True\n",
      "5         valid_email@company.org         True\n",
      "6          first.last@website.net         True\n",
      "7                info123@info.com         True\n",
      "8           example_user@mail.com         True\n",
      "9             contact@my-site.com         True\n",
      "18               user@domain-.com         True\n",
      "\n",
      "Valid Passwords: \n",
      "       Passwords  valid_password\n",
      "0       Abc1!xyz            True\n",
      "1   Password@123            True\n",
      "2   Hello$World9            True\n",
      "3    Secure#2024            True\n",
      "4    MyP@ssword1            True\n",
      "5     Great!Day9            True\n",
      "6    1Valid$Pass            True\n",
      "7     Sunshine#8            True\n",
      "8    Lovely@Day1            True\n",
      "9  Python3!Rocks            True\n"
     ]
    }
   ],
   "source": [
    "# Checking for valid emails and passwords\n",
    "emails_df['valid_email'] = emails_df['Emails'].apply(isValidEmail)\n",
    "passwords_df['valid_password'] = passwords_df['Passwords'].apply(isValidPassword)\n",
    "\n",
    "print(\"Valid Emails: \")\n",
    "print(emails_df[emails_df['valid_email']])\n",
    "\n",
    "print(\"\\nValid Passwords: \")\n",
    "print(passwords_df[passwords_df['valid_password']])\n"
   ]
  }
 ],
 "metadata": {
  "kernelspec": {
   "display_name": "base",
   "language": "python",
   "name": "python3"
  },
  "language_info": {
   "codemirror_mode": {
    "name": "ipython",
    "version": 3
   },
   "file_extension": ".py",
   "mimetype": "text/x-python",
   "name": "python",
   "nbconvert_exporter": "python",
   "pygments_lexer": "ipython3",
   "version": "3.12.7"
  }
 },
 "nbformat": 4,
 "nbformat_minor": 2
}
