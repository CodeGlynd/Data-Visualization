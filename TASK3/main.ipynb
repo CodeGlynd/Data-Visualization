{
 "cells": [
  {
   "cell_type": "code",
   "execution_count": 90,
   "metadata": {},
   "outputs": [],
   "source": [
    "import pandas as pd\n",
    "import matplotlib.pyplot as plt\n",
    "import seaborn as sns\n",
    "from datetime import datetime\n",
    "import folium\n"
   ]
  },
  {
   "cell_type": "code",
   "execution_count": 91,
   "metadata": {},
   "outputs": [],
   "source": [
    "def load_data(filename):\n",
    "    df = pd.read_csv(filename)\n",
    "    df['Date'] = pd.to_datetime(df['Date'])\n",
    "    df['Month'] = df['Date'].dt.month\n",
    "    df['Year'] = df['Date'].dt.year\n",
    "    return df"
   ]
  },
  {
   "cell_type": "code",
   "execution_count": 92,
   "metadata": {},
   "outputs": [],
   "source": [
    "def plt_avg_fire(df):\n",
    "    plt.figure(figsize=(15, 6))\n",
    "    yearly_avg = df.groupby('Year')['Estimated_fire_area'].mean()\n",
    "    yearly_avg.plot(kind='line', marker='o')\n",
    "    plt.title('Average Estimated Fire Area Over Years')\n",
    "    plt.xlabel('Year')\n",
    "    plt.ylabel('Average Fire Area (km²)')\n",
    "    plt.grid(True)\n",
    "    return plt"
   ]
  },
  {
   "cell_type": "code",
   "execution_count": 93,
   "metadata": {},
   "outputs": [],
   "source": [
    "def plt_avg_fire_month(df):\n",
    "    plt.figure(figsize=(12, 6))\n",
    "    monthly_avg = df.groupby('Month')['Estimated_fire_area'].mean()\n",
    "    monthly_avg.plot(kind='line', marker='o')\n",
    "    plt.title('Average Estimated Fire Area by Month')\n",
    "    plt.xlabel('Month')\n",
    "    plt.ylabel('Average Fire Area (km²)')\n",
    "    plt.grid(True)\n",
    "    return plt"
   ]
  },
  {
   "cell_type": "code",
   "execution_count": 94,
   "metadata": {},
   "outputs": [],
   "source": [
    "def fire_brightness(df):\n",
    "    plt.figure(figsize=(12, 6))\n",
    "    sns.barplot(data=df, x='Region', y='Mean_estimated_fire_brightness')\n",
    "    plt.title('Mean Estimated Fire Brightness by Region')\n",
    "    plt.xticks(rotation=45)\n",
    "    plt.tight_layout()\n",
    "    return plt"
   ]
  },
  {
   "cell_type": "code",
   "execution_count": 95,
   "metadata": {},
   "outputs": [],
   "source": [
    "def fire_count_pie(df):\n",
    "    plt.figure(figsize=(10, 10))\n",
    "    region_counts = df.groupby('Region')['Count'].sum()\n",
    "    plt.pie(region_counts, labels=region_counts.index)\n",
    "    plt.title('Distribution of Fire Pixel Counts by Region')\n",
    "    return plt"
   ]
  },
  {
   "cell_type": "code",
   "execution_count": 96,
   "metadata": {},
   "outputs": [],
   "source": [
    "def customize_fire_pie(df):\n",
    "    plt.figure(figsize=(12, 8))\n",
    "    region_counts = df.groupby('Region')['Count'].sum()\n",
    "    colors = sns.color_palette('husl', n_colors=len(region_counts))\n",
    "    plt.pie(region_counts, labels=region_counts.index, colors=colors,autopct='%1.1f%%', shadow=True, startangle=90)\n",
    "    plt.title('Distribution of Fire Pixel Counts by Region (Enhanced)')\n",
    "    return plt\n"
   ]
  },
  {
   "cell_type": "code",
   "execution_count": 97,
   "metadata": {},
   "outputs": [],
   "source": [
    "def plt_fire_brightness_histogram(df):\n",
    "    plt.figure(figsize=(12, 6))\n",
    "    plt.hist(df['Mean_estimated_fire_brightness'], bins=50)\n",
    "    plt.title('Distribution of Mean Estimated Fire Brightness')\n",
    "    plt.xlabel('Fire Brightness (Kelvin)')\n",
    "    plt.ylabel('Frequency')\n",
    "    return plt\n"
   ]
  },
  {
   "cell_type": "code",
   "execution_count": 98,
   "metadata": {},
   "outputs": [],
   "source": [
    "def plt_regional_brightness(df):\n",
    "    plt.figure(figsize=(12, 6))\n",
    "    sns.histplot(data=df, x='Mean_estimated_fire_brightness', hue='Region', multiple=\"stack\")\n",
    "    plt.title('Distribution of Fire Brightness by Region')\n",
    "    plt.xlabel('Fire Brightness (Kelvin)')\n",
    "    return plt"
   ]
  },
  {
   "cell_type": "code",
   "execution_count": 99,
   "metadata": {},
   "outputs": [],
   "source": [
    "def radiative_power_confidence(df):\n",
    "    plt.figure(figsize=(10, 6))\n",
    "    sns.scatterplot(data=df, x='Mean_estimated_fire_radiative_power', y='Mean_confidence', alpha=0.5)\n",
    "    plt.title('Fire Radiative Power vs Confidence Level')\n",
    "    plt.xlabel('Mean Estimated Fire Radiative Power (MW)')\n",
    "    plt.ylabel('Mean Confidence Level')\n",
    "    return plt"
   ]
  },
  {
   "cell_type": "code",
   "execution_count": 100,
   "metadata": {},
   "outputs": [],
   "source": [
    "def australia_wildfire_map():\n",
    "    regions = {\n",
    "        \"NSW \": [-33.8688, 151.2093],\n",
    "        \"NT \": [-12.4634, 130.8456],\n",
    "        \"QL \": [-27.4698, 153.0251],\n",
    "        \"SA \": [-34.9285, 138.6007],\n",
    "        \"TA \": [-42.8821, 147.3272],\n",
    "        \"VI \": [-37.8136, 144.9631],\n",
    "        \"WA \": [-31.9505, 115.8605]\n",
    "    }\n",
    "    \n",
    "    # Create map centered on Australia\n",
    "    m = folium.Map(location=[-25.2744, 133.7751], zoom_start=4)\n",
    "    \n",
    "    # Add markers for each region\n",
    "    for region, coords in regions.items():\n",
    "        folium.Marker(\n",
    "            coords,\n",
    "            popup=region,\n",
    "            icon=folium.Icon(color='red', icon='info-sign')\n",
    "        ).add_to(m)\n",
    "    \n",
    "    return m"
   ]
  },
  {
   "cell_type": "code",
   "execution_count": null,
   "metadata": {},
   "outputs": [],
   "source": [
    "def main():\n",
    "    \n",
    "    df = load_data('Historical_Wildfires.csv')\n",
    "    \n",
    "    plt_avg_fire(df)\n",
    "    plt_avg_fire_month(df)\n",
    "    fire_brightness(df)\n",
    "    fire_count_pie(df)\n",
    "    customize_fire_pie(df)\n",
    "    plt_fire_brightness_histogram(df)\n",
    "    plt_regional_brightness(df)\n",
    "    radiative_power_confidence(df)\n",
    "    display(australia_wildfire_map())\n",
    "    \n",
    "    \n",
    "if __name__ == \"__main__\":\n",
    "    main()"
   ]
  }
 ],
 "metadata": {
  "kernelspec": {
   "display_name": "base",
   "language": "python",
   "name": "python3"
  },
  "language_info": {
   "codemirror_mode": {
    "name": "ipython",
    "version": 3
   },
   "file_extension": ".py",
   "mimetype": "text/x-python",
   "name": "python",
   "nbconvert_exporter": "python",
   "pygments_lexer": "ipython3",
   "version": "3.12.7"
  }
 },
 "nbformat": 4,
 "nbformat_minor": 2
}
