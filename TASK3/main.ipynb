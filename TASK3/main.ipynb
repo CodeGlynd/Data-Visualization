{
 "cells": [
  {
   "cell_type": "code",
   "execution_count": null,
   "metadata": {},
   "outputs": [],
   "source": [
    "import pandas as pd\n",
    "import matplotlib.pyplot as plt\n",
    "import seaborn as sns\n",
    "import folium\n",
    "from datetime import datetime"
   ]
  },
  {
   "cell_type": "code",
   "execution_count": null,
   "metadata": {},
   "outputs": [],
   "source": [
    "def load_and_prepare_data(filename):\n",
    "    df = pd.read_csv(filename)\n",
    "    df['Date'] = pd.to_datetime(df['Date'])\n",
    "    df['Month'] = df['Date'].dt.month\n",
    "    df['Year'] = df['Date'].dt.year\n",
    "    return df"
   ]
  },
  {
   "cell_type": "code",
   "execution_count": null,
   "metadata": {},
   "outputs": [],
   "source": [
    "def plt_avg_fire(df):\n",
    "    plt.figure(figsize=(15, 6))\n",
    "    yearly_avg = df.groupby('Year')['Estimated_fire_area'].mean()\n",
    "    yearly_avg.plot(kind='line', marker='o')\n",
    "    plt.title('Average Estimated Fire Area Over Years')\n",
    "    plt.xlabel('Year')\n",
    "    plt.ylabel('Average Fire Area (km²)')\n",
    "    plt.grid(True)\n",
    "    return plt"
   ]
  },
  {
   "cell_type": "code",
   "execution_count": null,
   "metadata": {},
   "outputs": [],
   "source": [
    "def plt_avg_fire_month(df):\n",
    "    plt.figure(figsize=(12, 6))\n",
    "    monthly_avg = df.groupby('Month')['Estimated_fire_area'].mean()\n",
    "    monthly_avg.plot(kind='line', marker='o')\n",
    "    plt.title('Average Estimated Fire Area by Month')\n",
    "    plt.xlabel('Month')\n",
    "    plt.ylabel('Average Fire Area (km²)')\n",
    "    plt.grid(True)\n",
    "    return plt"
   ]
  },
  {
   "cell_type": "code",
   "execution_count": null,
   "metadata": {},
   "outputs": [],
   "source": []
  }
 ],
 "metadata": {
  "language_info": {
   "name": "python"
  }
 },
 "nbformat": 4,
 "nbformat_minor": 2
}
