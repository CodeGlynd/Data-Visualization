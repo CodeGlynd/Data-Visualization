{
 "cells": [
  {
   "cell_type": "code",
   "execution_count": 22,
   "metadata": {},
   "outputs": [],
   "source": [
    "import numpy as np \n",
    "import pandas as pd\n",
    "import matplotlib.pyplot as plt\n",
    "import seaborn as sns\n",
    "import warnings\n",
    "warnings.filterwarnings(\"ignore\")"
   ]
  },
  {
   "cell_type": "code",
   "execution_count": 23,
   "metadata": {},
   "outputs": [],
   "source": [
    "data = pd.read_csv('./diabetes_prediction_dataset - diabetes_prediction_dataset.csv')"
   ]
  },
  {
   "cell_type": "code",
   "execution_count": null,
   "metadata": {},
   "outputs": [],
   "source": [
    "data.shape"
   ]
  },
  {
   "cell_type": "code",
   "execution_count": null,
   "metadata": {},
   "outputs": [],
   "source": [
    "data.head()"
   ]
  },
  {
   "cell_type": "code",
   "execution_count": null,
   "metadata": {},
   "outputs": [],
   "source": [
    "data.info()"
   ]
  },
  {
   "cell_type": "code",
   "execution_count": null,
   "metadata": {},
   "outputs": [],
   "source": [
    "data.columns"
   ]
  },
  {
   "cell_type": "code",
   "execution_count": null,
   "metadata": {},
   "outputs": [],
   "source": [
    "print (\"Number of dublicate rows :\", data.duplicated().sum())"
   ]
  },
  {
   "cell_type": "code",
   "execution_count": null,
   "metadata": {},
   "outputs": [],
   "source": [
    "data.drop_duplicates(inplace=True)\n",
    "print (\"Number of dublicate rows :\", data.duplicated().sum())"
   ]
  },
  {
   "cell_type": "code",
   "execution_count": null,
   "metadata": {},
   "outputs": [],
   "source": [
    "data.isnull().sum()"
   ]
  },
  {
   "cell_type": "code",
   "execution_count": null,
   "metadata": {},
   "outputs": [],
   "source": [
    "for col in ['gender','smoking_history'] :\n",
    "    print (f'Number of Column {col} is : ' , data[col].nunique())\n",
    "    print (f'Number of Column {col} is : ' , data[col].unique())"
   ]
  },
  {
   "cell_type": "code",
   "execution_count": 32,
   "metadata": {},
   "outputs": [],
   "source": [
    "from sklearn.preprocessing import LabelEncoder\n",
    "label = LabelEncoder()\n",
    "data['gender'] = label.fit_transform(data['gender'])\n",
    "data['smoking_history'] = label.fit_transform(data['smoking_history'])"
   ]
  },
  {
   "cell_type": "code",
   "execution_count": null,
   "metadata": {},
   "outputs": [],
   "source": [
    "data['gender'].unique()\n"
   ]
  },
  {
   "cell_type": "code",
   "execution_count": null,
   "metadata": {},
   "outputs": [],
   "source": [
    "data['smoking_history'].unique()\n"
   ]
  },
  {
   "cell_type": "code",
   "execution_count": null,
   "metadata": {},
   "outputs": [],
   "source": [
    "data['gender'].head()\n"
   ]
  },
  {
   "cell_type": "code",
   "execution_count": null,
   "metadata": {},
   "outputs": [],
   "source": [
    "data['smoking_history'].head()"
   ]
  },
  {
   "cell_type": "markdown",
   "metadata": {},
   "source": [
    "Histogram display Distribution of Diabetes\n"
   ]
  },
  {
   "cell_type": "code",
   "execution_count": null,
   "metadata": {},
   "outputs": [],
   "source": [
    "\n",
    "plt.hist(data['diabetes'], bins=10)\n",
    "plt.title(\"Diagnosed with diabetes.\", color='b')\n",
    "plt.show()"
   ]
  },
  {
   "cell_type": "code",
   "execution_count": null,
   "metadata": {},
   "outputs": [],
   "source": [
    "data.shape"
   ]
  },
  {
   "cell_type": "markdown",
   "metadata": {},
   "source": [
    "line charts\n"
   ]
  },
  {
   "cell_type": "code",
   "execution_count": null,
   "metadata": {},
   "outputs": [],
   "source": [
    "avg_blood_glucose = data.groupby('diabetes')['blood_glucose_level'].mean()\n",
    "\n",
    "plt.figure(figsize=(20, 10))\n",
    "plt.plot(avg_blood_glucose.index, avg_blood_glucose.values, marker='o', label='Average Blood Glucose Level')\n",
    "\n",
    "plt.title('Average Blood Glucose Level by Diabetes', fontsize=14)\n",
    "plt.xlabel('Diabetes', fontsize=12)\n",
    "plt.ylabel('Average Blood Glucose Level', fontsize=12)\n",
    "plt.grid(True, linestyle='--', alpha=0.7) \n",
    "plt.legend()\n",
    "plt.show()\n"
   ]
  },
  {
   "cell_type": "code",
   "execution_count": null,
   "metadata": {},
   "outputs": [],
   "source": [
    "bmi_mean = data.groupby('diabetes')['bmi'].mean()\n",
    "\n",
    "plt.figure(figsize=(20, 10))\n",
    "plt.plot(bmi_mean.index, bmi_mean.values, marker='o', label='Average BMI')\n",
    "\n",
    "plt.title('Average BMI by Diabetes ', fontsize=14)\n",
    "plt.xlabel('Diabetes (0 = No, 1 = Yes)', fontsize=12)\n",
    "plt.ylabel('Average BMI', fontsize=12)\n",
    "plt.grid(True, linestyle='--', alpha=0.3)  \n",
    "plt.legend()\n",
    "plt.show()\n"
   ]
  },
  {
   "cell_type": "code",
   "execution_count": null,
   "metadata": {},
   "outputs": [],
   "source": [
    "smoking_diabetes_percentage = data.groupby('smoking_history')['diabetes'].mean() * 100\n",
    "\n",
    "plt.figure(figsize=(20, 10))\n",
    "plt.plot(smoking_diabetes_percentage.index, smoking_diabetes_percentage.values, marker='o', label='Diabetes Percentage')\n",
    "\n",
    "plt.title('Diabetes Percentage by Smoking History ', fontsize=14)\n",
    "plt.xlabel('Smoking History', fontsize=12)\n",
    "plt.ylabel('Diabetes Percentage (%)', fontsize=12)\n",
    "plt.grid(True, linestyle='--', alpha=0.3)  \n",
    "plt.legend()\n",
    "plt.show()\n"
   ]
  },
  {
   "cell_type": "code",
   "execution_count": null,
   "metadata": {},
   "outputs": [],
   "source": [
    "heart_disease_percentage = data.groupby('diabetes')['heart_disease'].mean() * 100\n",
    "\n",
    "plt.figure(figsize=(20, 10))\n",
    "plt.plot(heart_disease_percentage.index, heart_disease_percentage.values, marker='o', color='blue', label='Heart Disease Percentage')\n",
    "\n",
    "\n",
    "plt.title('Heart Disease Percentage by Diabetes (All Data)', fontsize=14)\n",
    "plt.xlabel('Diabetes (0 = No, 1 = Yes)', fontsize=12)\n",
    "plt.ylabel('Heart Disease Percentage (%)', fontsize=12)\n",
    "plt.grid(True, linestyle='--', alpha=1)  \n",
    "plt.legend()\n",
    "plt.show()\n"
   ]
  },
  {
   "cell_type": "markdown",
   "metadata": {},
   "source": [
    "pie chart\n"
   ]
  },
  {
   "cell_type": "code",
   "execution_count": null,
   "metadata": {},
   "outputs": [],
   "source": [
    "\n",
    "\n",
    "diabetes_data = data[data['diabetes'] == 1]\n",
    "\n",
    "gender_counts = diabetes_data['gender'].value_counts()\n",
    "\n",
    "plt.figure(figsize=(6, 4))\n",
    "plt.pie(\n",
    "    gender_counts, \n",
    "    labels=gender_counts.index, \n",
    "    autopct='%1.1f%%', \n",
    "    startangle=90, \n",
    "    colors=['skyblue', 'lightcoral'], \n",
    "    explode=[0.1 if i == 0 else 0 for i in range(len(gender_counts))]\n",
    ")\n",
    "\n",
    "plt.title('Gender Distribution (Diabetes = 1)', fontsize=14)\n",
    "plt.show()\n",
    "\n"
   ]
  },
  {
   "cell_type": "markdown",
   "metadata": {},
   "source": [
    "functionality of Seaborn Library\n"
   ]
  },
  {
   "cell_type": "code",
   "execution_count": null,
   "metadata": {},
   "outputs": [],
   "source": [
    "\n",
    "plt.figure(figsize=(10, 6))\n",
    "sns.barplot(\n",
    "    x='smoking_history', \n",
    "    y='blood_glucose_level', \n",
    "    data=data, \n",
    "    ci='sd', \n",
    "    palette='viridis'\n",
    ")\n",
    "\n",
    "plt.title('Comparison of Blood Glucose Levels by Smoking History', fontsize=14)\n",
    "plt.xlabel('Smoking History', fontsize=12)\n",
    "plt.ylabel('Average Blood Glucose Level', fontsize=12)\n",
    "plt.xticks(rotation=45)  \n",
    "plt.grid(axis='y', linestyle='--', alpha=0.7)\n",
    "plt.show()\n"
   ]
  },
  {
   "cell_type": "markdown",
   "metadata": {},
   "source": [
    "sub plotting to draw more than one plot for comparison.\n"
   ]
  },
  {
   "cell_type": "code",
   "execution_count": null,
   "metadata": {},
   "outputs": [],
   "source": [
    "\n",
    "fig, axes = plt.subplots(1, 3, figsize=(18, 6))\n",
    "\n",
    "sns.histplot(data=data, x='age', hue='diabetes', multiple='stack', kde=True, ax=axes[0], palette='Blues')\n",
    "axes[0].set_title('Age Distribution by Diabetes')\n",
    "axes[0].set_xlabel('Age')\n",
    "axes[0].set_ylabel('Count')\n",
    "\n",
    "sns.histplot(data=data, x='heart_disease', hue='diabetes', multiple='stack', kde=True, ax=axes[1], palette='Greens')\n",
    "axes[1].set_title('Heart Disease by Diabetes')\n",
    "axes[1].set_xlabel('Heart Disease')\n",
    "axes[1].set_ylabel('Count')\n",
    "\n",
    "sns.histplot(data['blood_glucose_level'], kde=True, ax=axes[2], color='orange')\n",
    "axes[2].set_title('Blood Glucose Level Distribution')\n",
    "\n",
    "plt.tight_layout()\n",
    "plt.show()\n",
    "\n"
   ]
  },
  {
   "cell_type": "markdown",
   "metadata": {},
   "source": [
    "Bubble plot\n"
   ]
  },
  {
   "cell_type": "code",
   "execution_count": null,
   "metadata": {},
   "outputs": [],
   "source": [
    "\n",
    "\n",
    "\n",
    "plt.figure(figsize=(10, 6))\n",
    "bubble_size = data['bmi']  \n",
    "\n",
    "sns.scatterplot(\n",
    "    x='age', \n",
    "    y='blood_glucose_level', \n",
    "    size=bubble_size, \n",
    "    hue='smoking_history', \n",
    "    data=data, \n",
    "    sizes=(20, 200),  \n",
    "    palette='cool'\n",
    ")\n",
    "\n",
    "plt.title('Bubble Plot: Age vs Blood Glucose Level (Bubble Size = BMI)', fontsize=14)\n",
    "plt.xlabel('Age', fontsize=12)\n",
    "plt.ylabel('Blood Glucose Level', fontsize=12)\n",
    "plt.legend(title='Smoking History', bbox_to_anchor=(1.05, 1), loc='upper left')\n",
    "plt.grid(alpha=0.5)\n",
    "plt.show()\n"
   ]
  },
  {
   "cell_type": "markdown",
   "metadata": {},
   "source": [
    "the functionality of Matplotlib to develop a scatter plot\n"
   ]
  },
  {
   "cell_type": "code",
   "execution_count": null,
   "metadata": {},
   "outputs": [],
   "source": [
    "from scipy.stats import linregress\n",
    "\n",
    "plt.figure(figsize=(10, 6))\n",
    "plt.scatter(data['age'], data['blood_glucose_level'], color='blue', alpha=0.6, label='Data Points')\n",
    "\n",
    "slope, intercept, r_value, p_value, std_err = linregress(data['age'], data['blood_glucose_level'])\n",
    "regression_line = slope * data['age'] + intercept\n",
    "\n",
    "plt.plot(data['age'], regression_line, color='red', label=f'Best Fit Line (R²={r_value**2:.2f})')\n",
    "\n",
    "plt.title('Scatter Plot with Regression Line', fontsize=14)\n",
    "plt.xlabel('Age', fontsize=12)\n",
    "plt.ylabel('Blood Glucose Level', fontsize=12)\n",
    "plt.legend()\n",
    "plt.grid(alpha=0.5)\n",
    "plt.show()\n"
   ]
  },
  {
   "cell_type": "code",
   "execution_count": null,
   "metadata": {},
   "outputs": [],
   "source": [
    "data.columns"
   ]
  },
  {
   "cell_type": "markdown",
   "metadata": {},
   "source": [
    "Bar chart\n"
   ]
  },
  {
   "cell_type": "code",
   "execution_count": null,
   "metadata": {},
   "outputs": [],
   "source": [
    "plt.bar(data['age'], data['heart_disease'])\n",
    "plt.xlabel('Age')\n",
    "plt.ylabel('Heart Disease Level')\n",
    "plt.title('Age by Heart Disease Level')\n",
    "plt.show()"
   ]
  },
  {
   "cell_type": "markdown",
   "metadata": {},
   "source": [
    "Machine Learning\n"
   ]
  },
  {
   "cell_type": "code",
   "execution_count": 50,
   "metadata": {},
   "outputs": [],
   "source": [
    "x= data.drop(columns=[\"diabetes\"], axis= 1)\n",
    "y= data[\"diabetes\"] # Target"
   ]
  },
  {
   "cell_type": "code",
   "execution_count": 51,
   "metadata": {},
   "outputs": [],
   "source": [
    "from sklearn.model_selection import train_test_split\n",
    "x_train , x_test , y_train , y_test = train_test_split(x, y, test_size=0.5, random_state=0,stratify=y)"
   ]
  },
  {
   "cell_type": "code",
   "execution_count": null,
   "metadata": {},
   "outputs": [],
   "source": [
    "x_train.shape  , y_train.shape"
   ]
  },
  {
   "cell_type": "code",
   "execution_count": null,
   "metadata": {},
   "outputs": [],
   "source": [
    "x_test.shape  , y_test.shape"
   ]
  },
  {
   "cell_type": "code",
   "execution_count": null,
   "metadata": {},
   "outputs": [],
   "source": [
    "from sklearn.neighbors import KNeighborsClassifier\n",
    "knnmodel = KNeighborsClassifier(n_neighbors=3)\n",
    "knnmodel.fit(x_train,y_train)\n",
    "print ( 'KNNModel Train Score is :', knnmodel.score(x_train , y_train) )\n",
    "print ( 'KNNModel Test Score is :', knnmodel.score(x_test , y_test) )"
   ]
  },
  {
   "cell_type": "code",
   "execution_count": null,
   "metadata": {},
   "outputs": [],
   "source": [
    "y_pred1 = knnmodel.predict (x_test)\n",
    "print('actual Output : ' , (y_test[:10].tolist()))\n",
    "print('predict Output : ' , (y_pred1[:10].tolist()))"
   ]
  },
  {
   "cell_type": "code",
   "execution_count": null,
   "metadata": {},
   "outputs": [],
   "source": [
    "from sklearn.metrics import classification_report, confusion_matrix\n",
    "cm = confusion_matrix(y_test , y_pred1)\n",
    "cm"
   ]
  },
  {
   "cell_type": "code",
   "execution_count": null,
   "metadata": {},
   "outputs": [],
   "source": [
    "import seaborn as sns \n",
    "sns.heatmap (cm , annot_kws= {\"size\" :12 },annot= True , fmt=\"g\" , cmap= \"YlGnBu\")\n",
    "plt.xlabel('Actual')\n",
    "plt.ylabel('Predicted')\n",
    "plt.show()"
   ]
  },
  {
   "cell_type": "code",
   "execution_count": null,
   "metadata": {},
   "outputs": [],
   "source": [
    "print ( classification_report (y_test , y_pred1))"
   ]
  },
  {
   "cell_type": "markdown",
   "metadata": {},
   "source": [
    "### Naive Bayes\n"
   ]
  },
  {
   "cell_type": "code",
   "execution_count": null,
   "metadata": {},
   "outputs": [],
   "source": [
    "#model 2\n",
    "from sklearn.naive_bayes import GaussianNB\n",
    "NBModel = GaussianNB()\n",
    "NBModel.fit(x_train , y_train)\n",
    "print ('NBModel Train Score is : ' , NBModel.score(x_train,y_train))\n",
    "print ('NBModel Test Score is : ' , NBModel.score(x_test,y_test))"
   ]
  },
  {
   "cell_type": "code",
   "execution_count": null,
   "metadata": {},
   "outputs": [],
   "source": [
    "y_pred2 = NBModel.predict(x_test)\n",
    "print('actual Output : ' , (y_test[:10].tolist()))\n",
    "print('predict Output : ' , (y_pred2[:10].tolist()))"
   ]
  },
  {
   "cell_type": "code",
   "execution_count": null,
   "metadata": {},
   "outputs": [],
   "source": [
    "from sklearn.metrics import classification_report , confusion_matrix\n",
    "cm = confusion_matrix(y_test , y_pred2)"
   ]
  },
  {
   "cell_type": "code",
   "execution_count": null,
   "metadata": {},
   "outputs": [],
   "source": [
    "import seaborn as sns \n",
    "sns.heatmap (cm , annot_kws= {\"size\" :12 },annot= True , fmt=\"g\" , cmap= \"YlGnBu\")\n",
    "plt.xlabel('Actual')\n",
    "plt.ylabel('Predicted')\n",
    "plt.show()"
   ]
  },
  {
   "cell_type": "code",
   "execution_count": null,
   "metadata": {},
   "outputs": [],
   "source": [
    "print ( classification_report (y_test , y_pred2))"
   ]
  },
  {
   "cell_type": "markdown",
   "metadata": {},
   "source": [
    "### Decision Tree\n"
   ]
  },
  {
   "cell_type": "code",
   "execution_count": null,
   "metadata": {},
   "outputs": [],
   "source": [
    "#model 3\n",
    "from sklearn.tree import DecisionTreeClassifier\n",
    "DTModel = DecisionTreeClassifier(criterion='gini') \n",
    "DTModel.fit(x_train,y_train)\n",
    "print('DTModel Train Score is : ',DTModel.score(x_train,y_train))\n",
    "print('DTModel Test Score is : ',DTModel.score(x_test,y_test))"
   ]
  },
  {
   "cell_type": "code",
   "execution_count": null,
   "metadata": {},
   "outputs": [],
   "source": [
    "y_pred=DTModel.predict(x_test)\n",
    "print('actual Output  : ',(y_test[:5].tolist()))\n",
    "print('predict output : ',y_pred[:5].tolist())"
   ]
  },
  {
   "cell_type": "code",
   "execution_count": null,
   "metadata": {},
   "outputs": [],
   "source": [
    "from sklearn.metrics import classification_report ,confusion_matrix\n",
    "cm=confusion_matrix(y_test,y_pred)\n",
    "cm"
   ]
  },
  {
   "cell_type": "code",
   "execution_count": null,
   "metadata": {},
   "outputs": [],
   "source": [
    "import seaborn as sns\n",
    "sns.heatmap(cm, annot=True, annot_kws={\"size\": 12},fmt=\"g\", cmap=\"crest\")\n",
    "plt.show()"
   ]
  },
  {
   "cell_type": "code",
   "execution_count": null,
   "metadata": {},
   "outputs": [],
   "source": [
    "print(classification_report(y_test,y_pred))"
   ]
  }
 ],
 "metadata": {
  "kernelspec": {
   "display_name": "base",
   "language": "python",
   "name": "python3"
  },
  "language_info": {
   "codemirror_mode": {
    "name": "ipython",
    "version": 3
   },
   "file_extension": ".py",
   "mimetype": "text/x-python",
   "name": "python",
   "nbconvert_exporter": "python",
   "pygments_lexer": "ipython3",
   "version": "3.12.7"
  }
 },
 "nbformat": 4,
 "nbformat_minor": 2
}
